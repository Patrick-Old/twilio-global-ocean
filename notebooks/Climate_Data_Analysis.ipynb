{
 "cells": [
  {
   "cell_type": "markdown",
   "metadata": {},
   "source": [
    "# Ahoy! Are You Ready for Climate Data Analysis?\n",
    "### Let's sail the high seas together with the analysis of a global oceanographic climate model.\n",
    "\n",
    "\n",
    "Every few years, climate organizations from around the world submit their model outputs to the International Panel on Climate Change. These models run forward in time to predict the future and backward in time to fill in missing data points to create a very clean, robust view of what the world has looked like in the past. One of the best models in the world is created by the NASA Goddard Institude of Space Studies. Today, we will look at part of the [oceanographic model from their latest release](https://data.giss.nasa.gov/modelE/cmip6/) which contains data from 2011 to 2014 in an effort to:\n",
    "\n",
    "1) Understand the interesting structure of the data.  \n",
    "2) Determine the average surface ocean temperature throughout all years.  \n",
    "3) Determine the average surface ocean temperature of the model in a specific month.  \n",
    "4) Visualize the data from the model output on a global map.  \n",
    "Bonus: Create an animated global plot of the data.  \n",
    "\n",
    "Please note that this model is shared under Creative Commons Attribution ShareAlike 4.0 International License, and the dataset has been modified to fit this exercise."
   ]
  },
  {
   "cell_type": "code",
   "execution_count": null,
   "metadata": {},
   "outputs": [],
   "source": [
    "import xarray\n",
    "import numpy as np\n",
    "import matplotlib.pyplot as plt\n",
    "import matplotlib.animation as animation"
   ]
  },
  {
   "cell_type": "markdown",
   "metadata": {},
   "source": [
    "### 1. The Structure of Climate Data\n",
    "\n",
    "Climate data is most often saved in a netCDF (.nc) format, and represents a four-dimensional model of the world. Four dimensions, you say? Yes, four dimensions, as the fourth dimension in this case is time! Essentially, this means the data shows the evolution of a three-dimensional object over time (you can imagine one image of a globe, then another image, then another, all in a single, wrapper array. This array is the fourth dimension, holding all of the globes together in an array)."
   ]
  },
  {
   "cell_type": "markdown",
   "metadata": {},
   "source": [
    "![alt text](http://www.askamathematician.com/wp-content/uploads/2011/05/cubes1.jpg)"
   ]
  },
  {
   "cell_type": "markdown",
   "metadata": {},
   "source": [
    "### Load the Data"
   ]
  },
  {
   "cell_type": "code",
   "execution_count": null,
   "metadata": {},
   "outputs": [],
   "source": [
    "ds = xarray.open_dataset(\"../data/modified_thetao_Omon_GISS-E2-1-G_historical_r1i1p5f1_gn_201101-201412.nc\", decode_times=False)\n",
    "ds"
   ]
  },
  {
   "cell_type": "markdown",
   "metadata": {},
   "source": [
    "### Isolate the Deepest Temperature\n",
    "xarray uses dataframes similar to pandas. This makes it easy to work with the data. Below, we grab just the temperature data and also isolate the deepest temperature value for each time, latitude, and longitude. Note that we know that we are grabbing the last level and not the last value of another dimension due to the order of the dimensions above."
   ]
  },
  {
   "cell_type": "code",
   "execution_count": null,
   "metadata": {},
   "outputs": [],
   "source": [
    "temp = ds['thetao'] # Grab the temperature data\n",
    "deepest_temp = temp[:,-1,:,:] # Get deepest value\n",
    "deepest_temp"
   ]
  },
  {
   "cell_type": "markdown",
   "metadata": {},
   "source": [
    "As it is described in the output above, our variable now consists of temperature data in three dimensions: time, latitude, and longitude. This represents the temperature of the world across time at a depth of 4,009 meters."
   ]
  },
  {
   "cell_type": "markdown",
   "metadata": {},
   "source": [
    "### 2. Find Average Surface Temperature\n",
    "Hint: Obtain the temperature at a given depth similar to how we did in the previous code block. Then, use the np.mean function to find the average value in the array."
   ]
  },
  {
   "cell_type": "code",
   "execution_count": null,
   "metadata": {},
   "outputs": [],
   "source": [
    "# Your code here"
   ]
  },
  {
   "cell_type": "markdown",
   "metadata": {},
   "source": [
    "### 3. Find the Average Surface Temperature for a Specific Month\n",
    "Hint: Create a new variable and assign it the value of the surface temperature for a particular month. Note that the data is given in days since January 1, 1850, on a 365-day calendar (according to the attributes above in the dataset) and because of this it may not appear in a format you recognize. Because of the difficulty in working with data like this, I have created the function below to help identify the index for a given month and date you may be interested in finding in the dataset."
   ]
  },
  {
   "cell_type": "code",
   "execution_count": null,
   "metadata": {},
   "outputs": [],
   "source": [
    "def get_date(month, year):\n",
    "    \"\"\"This function takes in the first three letters of a month (string) and a year (string).\n",
    "    It returns the index at which the month and year occur in the four year period between January, 2011\n",
    "    and December, 2014.\n",
    "    \n",
    "    Examples: \n",
    "    get_date('Jan', '2011') -> 0\n",
    "    get_date('Mar', '2011') -> 2\n",
    "    get_date('Dec', '2014') -> 47\n",
    "    \"\"\"\n",
    "    months = ['Jan', 'Feb', 'Mar', 'Apr', 'May', 'Jun', 'Jul', 'Aug', 'Sep', 'Oct', 'Nov', 'Dec']\n",
    "    years = ['2011', '2012', '2013', '2014']\n",
    "    \n",
    "    if month not in months:\n",
    "        raise ValueError(\"The given month value is invalid.\")\n",
    "        \n",
    "    if year not in years:\n",
    "        raise ValueError(\"The given year value is invalid.\")\n",
    "        \n",
    "    get_month = months.index(month)\n",
    "    get_year = years.index(year)\n",
    "    return months.index(month) + years.index(year) * 12"
   ]
  },
  {
   "cell_type": "code",
   "execution_count": null,
   "metadata": {},
   "outputs": [],
   "source": [
    "# Your code here"
   ]
  },
  {
   "cell_type": "markdown",
   "metadata": {},
   "source": [
    "### 4. Plot Your Global Temperature Data\n",
    "Using the function header below, determine how to pass in your temperature data into the function to create a plot of your data."
   ]
  },
  {
   "cell_type": "code",
   "execution_count": null,
   "metadata": {},
   "outputs": [],
   "source": [
    "def plot_temperature_data(temperature_data):\n",
    "    \"\"\"This function takes in a 2-D array of temperature data. It results in a plot of the given data.\"\"\"\n",
    "    fig,ax = plt.subplots(figsize=(12,10))\n",
    "\n",
    "    plt.title(\"Surface Ocean Temperatures\", size=20)\n",
    "    plt.xlabel(\"Longitude\", size=12)\n",
    "    plt.ylabel(\"Latitude\", size=12)\n",
    "    ax.contourf(temperature_data, cmap=plt.cm.jet)\n",
    "\n",
    "    ax.set_xticks(np.arange(0, 145, 24))\n",
    "    ax.set_xticklabels(np.arange(-180, 181, 60))\n",
    "    ax.set_yticks(np.arange(0, 91, 22))\n",
    "    ax.set_yticklabels(np.arange(-90, 91, 45))\n",
    "\n",
    "    plt.show()"
   ]
  },
  {
   "cell_type": "code",
   "execution_count": null,
   "metadata": {},
   "outputs": [],
   "source": [
    "# Your code here"
   ]
  },
  {
   "cell_type": "markdown",
   "metadata": {},
   "source": [
    "### Bonus: Create an Animated Plot of Temperature Data\n",
    "Using the function header below, determine how to pass your temperature data into the function to create an animated plot of your data. This won't show up in a Jupyter Notebook. Then, execute it as HTML using the following cell."
   ]
  },
  {
   "cell_type": "code",
   "execution_count": null,
   "metadata": {},
   "outputs": [],
   "source": [
    "def create_animation(temperature_data, fp=\"../images/GISS_climate_model_animation.gif\"):\n",
    "    \"\"\"This function takes in a 3-D array of temperature data. It creates an animated plot of the data as a gif\n",
    "    and saves it to the given filepath.\"\"\"\n",
    "    fig,ax = plt.subplots(figsize=(12,10))\n",
    "\n",
    "    def animate(i):\n",
    "        \"\"\"This function adds animation functionality to the figure.\"\"\"\n",
    "        plt.title(\"Surface Ocean Temperatures\")\n",
    "        plt.xlabel(\"Longitude\")\n",
    "        plt.ylabel(\"Latitude\")\n",
    "\n",
    "        ax.clear()\n",
    "        ax.contourf(temperature_data[i,:,:], cmap=plt.cm.jet)\n",
    "        ax.set_title('Temperature from January 2011 - December 2014', size=20) # Set title and get title from list\n",
    "        # Change axis values and labels\n",
    "        ax.set_xticks(np.arange(0, 145, 24))\n",
    "        ax.set_xticklabels(np.arange(-180, 181, 60))\n",
    "        ax.set_yticks(np.arange(0, 91, 22))\n",
    "        ax.set_yticklabels(np.arange(-90, 91, 45))\n",
    "        ax.set_xlabel(\"Longitude [degrees east]\", size=12)\n",
    "        ax.set_ylabel(\"Latitude [degrees north]\", size=12)\n",
    "\n",
    "    interval = 0.4 # in seconds\n",
    "    ani = animation.FuncAnimation(fig,animate,48,interval=interval*1e+3,blit=False)\n",
    "\n",
    "    ani.save(fp)"
   ]
  },
  {
   "cell_type": "code",
   "execution_count": null,
   "metadata": {},
   "outputs": [],
   "source": [
    "# Your code here"
   ]
  },
  {
   "cell_type": "code",
   "execution_count": null,
   "metadata": {},
   "outputs": [],
   "source": [
    "%%html\n",
    "<iframe src=\"../images/GISS_climate_model_animation.gif\" width=900, height=700</iframe>"
   ]
  },
  {
   "cell_type": "markdown",
   "metadata": {},
   "source": [
    "# Conclusion\n",
    "I now hope you have a better understanding of the structure of climate data and how to work with it. Here are a couple of questions you can answer with your new skillset, given the correct datasets.\n",
    "\n",
    "1. How has the Earth's temperature changed from the years 1950 - 2020?\n",
    "2. How do climate models compare to actual data measurements?\n",
    "3. How would we determine the salinity of the ocean over time? What about other variables (ex. nutrient content, phytoplankton populations)?"
   ]
  }
 ],
 "metadata": {
  "kernelspec": {
   "display_name": "Python 3",
   "language": "python",
   "name": "python3"
  },
  "language_info": {
   "codemirror_mode": {
    "name": "ipython",
    "version": 3
   },
   "file_extension": ".py",
   "mimetype": "text/x-python",
   "name": "python",
   "nbconvert_exporter": "python",
   "pygments_lexer": "ipython3",
   "version": "3.7.7"
  }
 },
 "nbformat": 4,
 "nbformat_minor": 4
}
